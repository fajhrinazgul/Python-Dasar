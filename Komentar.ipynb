{
 "cells": [
  {
   "cell_type": "markdown",
   "id": "9a3bd028",
   "metadata": {},
   "source": [
    "# Komentar\n",
    "\n",
    "Komentar dalam bahasa pemrograman digunakan untuk memudahkan pembacaan dari sebuah program yang di buat atau proses program yang nantinya berisikan deskripsi dari program tersebut. Ini sangat penting bagi kita yang akan membuat sebuah software dan nantinya orang yang membaca program kita tidak akan bingung."
   ]
  },
  {
   "cell_type": "markdown",
   "id": "675e887d",
   "metadata": {},
   "source": [
    "Di dalam bahasa pemrograman python kita menggunakan karakter pagar ataupun tanda kutip. Contoh\n",
    "```python\n",
    "# Ini sebuah komentar\n",
    "\n",
    "\"\"\"\n",
    "Dan ini juga sebuah komentar\n",
    "\"\"\"\n",
    "```\n",
    "\n",
    "Dan komentar ini tidak akan dieksekusi oleh sistem dan akan diabaikan."
   ]
  },
  {
   "cell_type": "code",
   "execution_count": 1,
   "id": "3ea31572",
   "metadata": {},
   "outputs": [
    {
     "name": "stdout",
     "output_type": "stream",
     "text": [
      "Ini akan dieksekusi\n"
     ]
    }
   ],
   "source": [
    "# Ini sebuah komentar dan ini tidak akan di eksekusi oleh sistem\n",
    "print(\"Ini akan dieksekusi\")\n",
    "# Dan ini juga tidak akan dieksekusi oleh sistem"
   ]
  },
  {
   "cell_type": "code",
   "execution_count": null,
   "id": "f0dde5bd",
   "metadata": {},
   "outputs": [],
   "source": []
  }
 ],
 "metadata": {
  "kernelspec": {
   "display_name": "Python 3 (ipykernel)",
   "language": "python",
   "name": "python3"
  },
  "language_info": {
   "codemirror_mode": {
    "name": "ipython",
    "version": 3
   },
   "file_extension": ".py",
   "mimetype": "text/x-python",
   "name": "python",
   "nbconvert_exporter": "python",
   "pygments_lexer": "ipython3",
   "version": "3.10.2"
  }
 },
 "nbformat": 4,
 "nbformat_minor": 5
}
