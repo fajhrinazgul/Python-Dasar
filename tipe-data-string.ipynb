{
 "cells": [
  {
   "cell_type": "markdown",
   "id": "715f21e0",
   "metadata": {
    "slideshow": {
     "slide_type": "slide"
    }
   },
   "source": [
    "# Tipe Data String\n",
    "\n",
    "Tipe data string merupakan tipe data yang berbentuk karakter, teks, dan kalimat. Tipe data string dalam sebuah python harus di awali dengan tanda kutip satu atau tanda kutip dua."
   ]
  },
  {
   "cell_type": "code",
   "execution_count": 1,
   "id": "4532d831",
   "metadata": {
    "slideshow": {
     "slide_type": "subslide"
    }
   },
   "outputs": [
    {
     "name": "stdout",
     "output_type": "stream",
     "text": [
      "Fajri Fath\n"
     ]
    }
   ],
   "source": [
    "nama = \"Fajri Fath\"\n",
    "\n",
    "print(nama)"
   ]
  },
  {
   "cell_type": "code",
   "execution_count": 2,
   "id": "f225df74",
   "metadata": {
    "slideshow": {
     "slide_type": "subslide"
    }
   },
   "outputs": [
    {
     "name": "stdout",
     "output_type": "stream",
     "text": [
      "Python itu sangat menyenangkan\n"
     ]
    }
   ],
   "source": [
    "kalimat = \"Python itu sangat menyenangkan\"\n",
    "\n",
    "print(kalimat)"
   ]
  },
  {
   "cell_type": "markdown",
   "id": "3521db9e",
   "metadata": {
    "slideshow": {
     "slide_type": "slide"
    }
   },
   "source": [
    "### type()\n",
    "\n",
    "Perintah <i>type()</i> merupakan perintah yang berfungsi untuk menampilkan tipe data dari sebuah variabel atau sebuah objek."
   ]
  },
  {
   "cell_type": "code",
   "execution_count": 3,
   "id": "0728b222",
   "metadata": {
    "slideshow": {
     "slide_type": "subslide"
    }
   },
   "outputs": [
    {
     "name": "stdout",
     "output_type": "stream",
     "text": [
      "<class 'str'>\n"
     ]
    }
   ],
   "source": [
    "hobby = \"Programming\"\n",
    "\n",
    "print(type(hobby)) # Menampilkan tipe data"
   ]
  }
 ],
 "metadata": {
  "celltoolbar": "Slideshow",
  "kernelspec": {
   "display_name": "Python 3 (ipykernel)",
   "language": "python",
   "name": "python3"
  },
  "language_info": {
   "codemirror_mode": {
    "name": "ipython",
    "version": 3
   },
   "file_extension": ".py",
   "mimetype": "text/x-python",
   "name": "python",
   "nbconvert_exporter": "python",
   "pygments_lexer": "ipython3",
   "version": "3.9.7"
  }
 },
 "nbformat": 4,
 "nbformat_minor": 5
}
