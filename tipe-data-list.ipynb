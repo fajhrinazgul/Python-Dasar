{
 "cells": [
  {
   "cell_type": "markdown",
   "id": "5cd019e0",
   "metadata": {
    "slideshow": {
     "slide_type": "slide"
    }
   },
   "source": [
    "# Tipe Data List\n",
    "\n",
    "Tipe data list adalah tipe data yang berbentuk daftar yang dipisahkan dengan koma. Contoh [1, 2]"
   ]
  },
  {
   "cell_type": "markdown",
   "id": "1e4c0263",
   "metadata": {
    "slideshow": {
     "slide_type": "slide"
    }
   },
   "source": [
    "## String dalam list"
   ]
  },
  {
   "cell_type": "code",
   "execution_count": 2,
   "id": "55ebed0f",
   "metadata": {
    "slideshow": {
     "slide_type": "fragment"
    }
   },
   "outputs": [
    {
     "name": "stdout",
     "output_type": "stream",
     "text": [
      "['Python', 'Javascript', 'Java', 'Kotlin']\n",
      "<class 'list'>\n"
     ]
    }
   ],
   "source": [
    "data = [\"Python\", \"Javascript\", \"Java\", \"Kotlin\"]\n",
    "\n",
    "print(data)\n",
    "print(type(data))"
   ]
  },
  {
   "cell_type": "markdown",
   "id": "a3b247ca",
   "metadata": {
    "slideshow": {
     "slide_type": "slide"
    }
   },
   "source": [
    "## Integer dan Float dalam List"
   ]
  },
  {
   "cell_type": "code",
   "execution_count": 4,
   "id": "1d4357c0",
   "metadata": {
    "slideshow": {
     "slide_type": "fragment"
    }
   },
   "outputs": [
    {
     "name": "stdout",
     "output_type": "stream",
     "text": [
      "[22, 33, 12, 24, 34, 44.5, 10.2, 22.22]\n",
      "<class 'list'>\n"
     ]
    }
   ],
   "source": [
    "data = [22, 33, 12, 24, 34, 44.5, 10.2, 22.22]\n",
    "\n",
    "print(data)\n",
    "print(type(data))"
   ]
  },
  {
   "cell_type": "markdown",
   "id": "f04b60a1",
   "metadata": {
    "slideshow": {
     "slide_type": "slide"
    }
   },
   "source": [
    "## Tuple dalam List"
   ]
  },
  {
   "cell_type": "code",
   "execution_count": 5,
   "id": "f5c3c161",
   "metadata": {
    "slideshow": {
     "slide_type": "fragment"
    }
   },
   "outputs": [
    {
     "name": "stdout",
     "output_type": "stream",
     "text": [
      "[(1, 2, 3), (3, 4, 5), (6, 7, 8)]\n",
      "<class 'list'>\n"
     ]
    }
   ],
   "source": [
    "data = [(1, 2, 3), (3, 4, 5), (6, 7, 8)]\n",
    "\n",
    "print(data)\n",
    "print(type(data))"
   ]
  },
  {
   "cell_type": "markdown",
   "id": "022c1db4",
   "metadata": {
    "slideshow": {
     "slide_type": "slide"
    }
   },
   "source": [
    "## Boolean dalam List"
   ]
  },
  {
   "cell_type": "code",
   "execution_count": 6,
   "id": "36a57c5f",
   "metadata": {
    "slideshow": {
     "slide_type": "fragment"
    }
   },
   "outputs": [
    {
     "name": "stdout",
     "output_type": "stream",
     "text": [
      "[True, False, False, True]\n",
      "<class 'list'>\n"
     ]
    }
   ],
   "source": [
    "data = [True, False, False, True]\n",
    "\n",
    "print(data)\n",
    "print(type(data))"
   ]
  },
  {
   "cell_type": "markdown",
   "id": "03051b7d",
   "metadata": {
    "slideshow": {
     "slide_type": "slide"
    }
   },
   "source": [
    "# Mengurutkan data dalam List"
   ]
  },
  {
   "cell_type": "code",
   "execution_count": 8,
   "id": "7e9ff087",
   "metadata": {
    "slideshow": {
     "slide_type": "subslide"
    }
   },
   "outputs": [
    {
     "name": "stdout",
     "output_type": "stream",
     "text": [
      "[2, 1, 3, 4, 0]\n",
      "[0, 1, 2, 3, 4]\n"
     ]
    }
   ],
   "source": [
    "nilai = [2, 1, 3, 4, 0]\n",
    "\n",
    "print(nilai)\n",
    "\n",
    "# Gunakan method sort()\n",
    "\n",
    "nilai.sort()\n",
    "\n",
    "print(nilai)"
   ]
  },
  {
   "cell_type": "code",
   "execution_count": 10,
   "id": "a883d35f",
   "metadata": {
    "slideshow": {
     "slide_type": "fragment"
    }
   },
   "outputs": [
    {
     "name": "stdout",
     "output_type": "stream",
     "text": [
      "[1, 2, True, 'nama', (2, 3, 2)]\n"
     ]
    },
    {
     "ename": "TypeError",
     "evalue": "'<' not supported between instances of 'str' and 'bool'",
     "output_type": "error",
     "traceback": [
      "\u001b[0;31m---------------------------------------------------------------------------\u001b[0m",
      "\u001b[0;31mTypeError\u001b[0m                                 Traceback (most recent call last)",
      "Input \u001b[0;32mIn [10]\u001b[0m, in \u001b[0;36m<cell line: 5>\u001b[0;34m()\u001b[0m\n\u001b[1;32m      1\u001b[0m test \u001b[38;5;241m=\u001b[39m [\u001b[38;5;241m1\u001b[39m, \u001b[38;5;241m2\u001b[39m, \u001b[38;5;28;01mTrue\u001b[39;00m, \u001b[38;5;124m\"\u001b[39m\u001b[38;5;124mnama\u001b[39m\u001b[38;5;124m\"\u001b[39m, (\u001b[38;5;241m2\u001b[39m, \u001b[38;5;241m3\u001b[39m, \u001b[38;5;241m2\u001b[39m)]\n\u001b[1;32m      3\u001b[0m \u001b[38;5;28mprint\u001b[39m(test)\n\u001b[0;32m----> 5\u001b[0m \u001b[43mtest\u001b[49m\u001b[38;5;241;43m.\u001b[39;49m\u001b[43msort\u001b[49m\u001b[43m(\u001b[49m\u001b[43m)\u001b[49m\n\u001b[1;32m      7\u001b[0m \u001b[38;5;28mprint\u001b[39m(test)\n",
      "\u001b[0;31mTypeError\u001b[0m: '<' not supported between instances of 'str' and 'bool'"
     ]
    }
   ],
   "source": [
    "test = [1, 2, True, \"nama\", (2, 3, 2)]\n",
    "\n",
    "print(test)\n",
    "\n",
    "test.sort()\n",
    "\n",
    "print(test)\n",
    "# Akan menghasilkan error, jadi untuk mengurutkan data dalam tipe data list,\n",
    "# datanya harus bertipe data integer atau float"
   ]
  },
  {
   "cell_type": "markdown",
   "id": "b928c70a",
   "metadata": {
    "slideshow": {
     "slide_type": "slide"
    }
   },
   "source": [
    "## Menambahkan data kedalam list\n",
    "\n",
    "Untuk menambahkan data dalam list kita menggunakan method append()"
   ]
  },
  {
   "cell_type": "code",
   "execution_count": 11,
   "id": "e6fe7b60",
   "metadata": {
    "slideshow": {
     "slide_type": "subslide"
    }
   },
   "outputs": [
    {
     "name": "stdout",
     "output_type": "stream",
     "text": [
      "['Randang', 'Kalio', 'Gulai']\n",
      "['Randang', 'Kalio', 'Gulai', 'Touco']\n"
     ]
    }
   ],
   "source": [
    "nama = ['Randang', 'Kalio', 'Gulai']\n",
    "\n",
    "print(nama)\n",
    "\n",
    "nama.append('Touco') # Tambahkan nilai\n",
    "\n",
    "print(nama)"
   ]
  },
  {
   "cell_type": "markdown",
   "id": "ff692977",
   "metadata": {
    "slideshow": {
     "slide_type": "slide"
    }
   },
   "source": [
    "## Mengakses data"
   ]
  },
  {
   "cell_type": "code",
   "execution_count": 12,
   "id": "18e08911",
   "metadata": {
    "slideshow": {
     "slide_type": "subslide"
    }
   },
   "outputs": [
    {
     "name": "stdout",
     "output_type": "stream",
     "text": [
      "4\n",
      "[1, 2, 3, 4]\n"
     ]
    }
   ],
   "source": [
    "data = [1, 2, 3, 4]\n",
    "\n",
    "print(len(data)) # Mengecek berapa banyak data di list\n",
    "\n",
    "print(data)"
   ]
  },
  {
   "cell_type": "code",
   "execution_count": 13,
   "id": "3cb2cdce",
   "metadata": {
    "slideshow": {
     "slide_type": "fragment"
    }
   },
   "outputs": [
    {
     "name": "stdout",
     "output_type": "stream",
     "text": [
      "1\n",
      "2\n",
      "3\n",
      "4\n"
     ]
    }
   ],
   "source": [
    "data = [1, 2, 3, 4]\n",
    "print(data[0])\n",
    "print(data[1])\n",
    "print(data[2])\n",
    "print(data[3])"
   ]
  },
  {
   "cell_type": "code",
   "execution_count": 16,
   "id": "36cd7bbb",
   "metadata": {
    "slideshow": {
     "slide_type": "slide"
    }
   },
   "outputs": [
    {
     "name": "stdout",
     "output_type": "stream",
     "text": [
      "Python\n",
      "<class 'list'>\n",
      "<class 'str'>\n"
     ]
    }
   ],
   "source": [
    "nama = ['Python', 'C++', 'PHP']\n",
    "\n",
    "print(nama[0])\n",
    "print(type(nama))\n",
    "print(type(nama[0]))"
   ]
  },
  {
   "cell_type": "code",
   "execution_count": null,
   "id": "a07372f0",
   "metadata": {
    "slideshow": {
     "slide_type": "fragment"
    }
   },
   "outputs": [],
   "source": []
  }
 ],
 "metadata": {
  "celltoolbar": "Slideshow",
  "kernelspec": {
   "display_name": "Python 3 (ipykernel)",
   "language": "python",
   "name": "python3"
  },
  "language_info": {
   "codemirror_mode": {
    "name": "ipython",
    "version": 3
   },
   "file_extension": ".py",
   "mimetype": "text/x-python",
   "name": "python",
   "nbconvert_exporter": "python",
   "pygments_lexer": "ipython3",
   "version": "3.9.7"
  }
 },
 "nbformat": 4,
 "nbformat_minor": 5
}
