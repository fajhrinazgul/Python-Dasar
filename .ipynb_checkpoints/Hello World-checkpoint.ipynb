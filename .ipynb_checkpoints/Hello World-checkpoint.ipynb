{
 "cells": [
  {
   "cell_type": "markdown",
   "id": "1837f2e1",
   "metadata": {
    "slideshow": {
     "slide_type": "slide"
    }
   },
   "source": [
    "# Hello World\n",
    "\n",
    "Di dalam bahasa pemrograman python untuk membuat sebuah program Hello world sangat mudah dari bahasa yang lain.\n",
    "\n",
    "Dengan menggunakan perintah \n",
    "\n",
    "```python\n",
    "print()\n",
    "```\n",
    "Contoh"
   ]
  },
  {
   "cell_type": "code",
   "execution_count": 1,
   "id": "e396a26d",
   "metadata": {
    "slideshow": {
     "slide_type": "slide"
    }
   },
   "outputs": [
    {
     "name": "stdout",
     "output_type": "stream",
     "text": [
      "Hello World\n"
     ]
    }
   ],
   "source": [
    "print(\"Hello World\")"
   ]
  },
  {
   "cell_type": "code",
   "execution_count": 2,
   "id": "f9bba313",
   "metadata": {
    "slideshow": {
     "slide_type": "-"
    }
   },
   "outputs": [
    {
     "name": "stdout",
     "output_type": "stream",
     "text": [
      "10\n"
     ]
    }
   ],
   "source": [
    "print(10)"
   ]
  },
  {
   "cell_type": "code",
   "execution_count": 3,
   "id": "483c22f9",
   "metadata": {
    "slideshow": {
     "slide_type": "slide"
    }
   },
   "outputs": [
    {
     "name": "stdout",
     "output_type": "stream",
     "text": [
      "Molotov\n"
     ]
    }
   ],
   "source": [
    "print(\"Molotov\")"
   ]
  },
  {
   "cell_type": "code",
   "execution_count": 4,
   "id": "359cd24a",
   "metadata": {
    "slideshow": {
     "slide_type": "slide"
    }
   },
   "outputs": [
    {
     "name": "stdout",
     "output_type": "stream",
     "text": [
      "Carl Johnson / CJ\n"
     ]
    }
   ],
   "source": [
    "print(\"Carl Johnson / CJ\")"
   ]
  },
  {
   "cell_type": "markdown",
   "id": "82df2da8",
   "metadata": {},
   "source": [
    "# Membuat Variabel"
   ]
  },
  {
   "cell_type": "code",
   "execution_count": 1,
   "id": "1ea5ee94",
   "metadata": {},
   "outputs": [],
   "source": [
    "nama = \"Python\""
   ]
  },
  {
   "cell_type": "code",
   "execution_count": 2,
   "id": "5fe09eb3",
   "metadata": {},
   "outputs": [
    {
     "name": "stdout",
     "output_type": "stream",
     "text": [
      "Python\n"
     ]
    }
   ],
   "source": [
    "# Memanggil variabel\n",
    "print(nama)"
   ]
  },
  {
   "cell_type": "code",
   "execution_count": null,
   "id": "63d6a5fc",
   "metadata": {},
   "outputs": [],
   "source": []
  }
 ],
 "metadata": {
  "celltoolbar": "Slideshow",
  "kernelspec": {
   "display_name": "Python 3 (ipykernel)",
   "language": "python",
   "name": "python3"
  },
  "language_info": {
   "codemirror_mode": {
    "name": "ipython",
    "version": 3
   },
   "file_extension": ".py",
   "mimetype": "text/x-python",
   "name": "python",
   "nbconvert_exporter": "python",
   "pygments_lexer": "ipython3",
   "version": "3.10.2"
  }
 },
 "nbformat": 4,
 "nbformat_minor": 5
}
