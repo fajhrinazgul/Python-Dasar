{
 "cells": [
  {
   "cell_type": "markdown",
   "id": "e575dddf",
   "metadata": {
    "slideshow": {
     "slide_type": "slide"
    }
   },
   "source": [
    "# Tipe Data Boolean\n",
    "\n",
    "Tipe data boolean adalah tipe data yang menyatakan benar(True) atau salah(False)."
   ]
  },
  {
   "cell_type": "code",
   "execution_count": 1,
   "id": "5d4aa47c",
   "metadata": {
    "slideshow": {
     "slide_type": "subslide"
    }
   },
   "outputs": [
    {
     "name": "stdout",
     "output_type": "stream",
     "text": [
      "True\n",
      "<class 'bool'>\n"
     ]
    }
   ],
   "source": [
    "benar = True\n",
    "\n",
    "print(benar)\n",
    "print(type(benar))"
   ]
  },
  {
   "cell_type": "code",
   "execution_count": 2,
   "id": "9bf39d46",
   "metadata": {
    "slideshow": {
     "slide_type": "fragment"
    }
   },
   "outputs": [
    {
     "name": "stdout",
     "output_type": "stream",
     "text": [
      "False\n",
      "<class 'bool'>\n"
     ]
    }
   ],
   "source": [
    "salah = False\n",
    "\n",
    "print(salah)\n",
    "print(type(salah))"
   ]
  }
 ],
 "metadata": {
  "celltoolbar": "Slideshow",
  "kernelspec": {
   "display_name": "Python 3 (ipykernel)",
   "language": "python",
   "name": "python3"
  },
  "language_info": {
   "codemirror_mode": {
    "name": "ipython",
    "version": 3
   },
   "file_extension": ".py",
   "mimetype": "text/x-python",
   "name": "python",
   "nbconvert_exporter": "python",
   "pygments_lexer": "ipython3",
   "version": "3.9.7"
  }
 },
 "nbformat": 4,
 "nbformat_minor": 5
}
