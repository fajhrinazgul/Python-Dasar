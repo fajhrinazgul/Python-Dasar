{
 "cells": [
  {
   "cell_type": "markdown",
   "id": "5f2fb1ad",
   "metadata": {
    "slideshow": {
     "slide_type": "slide"
    }
   },
   "source": [
    "# Tipe Data Integer\n",
    "\n",
    "Tipe data integer merupakan sebuah tipe data yang berbentuk bilangan bulat."
   ]
  },
  {
   "cell_type": "code",
   "execution_count": 1,
   "id": "440fc67b",
   "metadata": {
    "slideshow": {
     "slide_type": "subslide"
    }
   },
   "outputs": [
    {
     "name": "stdout",
     "output_type": "stream",
     "text": [
      "76\n"
     ]
    }
   ],
   "source": [
    "nilai = 76\n",
    "\n",
    "print(nilai)"
   ]
  },
  {
   "cell_type": "code",
   "execution_count": 2,
   "id": "a0f9b1a6",
   "metadata": {
    "slideshow": {
     "slide_type": "fragment"
    }
   },
   "outputs": [
    {
     "name": "stdout",
     "output_type": "stream",
     "text": [
      "22\n"
     ]
    }
   ],
   "source": [
    "umur = 22\n",
    "\n",
    "print(umur)"
   ]
  },
  {
   "cell_type": "code",
   "execution_count": 3,
   "id": "a7e9fee3",
   "metadata": {
    "slideshow": {
     "slide_type": "fragment"
    }
   },
   "outputs": [
    {
     "name": "stdout",
     "output_type": "stream",
     "text": [
      "<class 'int'>\n"
     ]
    }
   ],
   "source": [
    "tahun = 2022\n",
    "\n",
    "print(type(tahun))"
   ]
  },
  {
   "cell_type": "code",
   "execution_count": 4,
   "id": "31ef695f",
   "metadata": {
    "slideshow": {
     "slide_type": "subslide"
    }
   },
   "outputs": [
    {
     "name": "stdout",
     "output_type": "stream",
     "text": [
      "45\n",
      "<class 'str'>\n"
     ]
    }
   ],
   "source": [
    "jumlah = \"45\"\n",
    "\n",
    "print(jumlah)\n",
    "print(type(jumlah))"
   ]
  },
  {
   "cell_type": "code",
   "execution_count": 8,
   "id": "6d720253",
   "metadata": {
    "slideshow": {
     "slide_type": "fragment"
    }
   },
   "outputs": [
    {
     "name": "stdout",
     "output_type": "stream",
     "text": [
      "300\n"
     ]
    }
   ],
   "source": [
    "panjang = 20\n",
    "lebar = 15\n",
    "luas = panjang * lebar\n",
    "\n",
    "print(luas)"
   ]
  },
  {
   "cell_type": "code",
   "execution_count": 6,
   "id": "eb38d515",
   "metadata": {
    "slideshow": {
     "slide_type": "fragment"
    }
   },
   "outputs": [
    {
     "ename": "TypeError",
     "evalue": "can't multiply sequence by non-int of type 'str'",
     "output_type": "error",
     "traceback": [
      "\u001b[0;31m---------------------------------------------------------------------------\u001b[0m",
      "\u001b[0;31mTypeError\u001b[0m                                 Traceback (most recent call last)",
      "Input \u001b[0;32mIn [6]\u001b[0m, in \u001b[0;36m<cell line: 4>\u001b[0;34m()\u001b[0m\n\u001b[1;32m      1\u001b[0m panjang \u001b[38;5;241m=\u001b[39m \u001b[38;5;124m\"\u001b[39m\u001b[38;5;124m50\u001b[39m\u001b[38;5;124m\"\u001b[39m\n\u001b[1;32m      2\u001b[0m lebar \u001b[38;5;241m=\u001b[39m \u001b[38;5;124m\"\u001b[39m\u001b[38;5;124m30\u001b[39m\u001b[38;5;124m\"\u001b[39m\n\u001b[0;32m----> 4\u001b[0m luas \u001b[38;5;241m=\u001b[39m \u001b[43mpanjang\u001b[49m\u001b[43m \u001b[49m\u001b[38;5;241;43m*\u001b[39;49m\u001b[43m \u001b[49m\u001b[43mlebar\u001b[49m\n\u001b[1;32m      6\u001b[0m \u001b[38;5;28mprint\u001b[39m(luas)\n",
      "\u001b[0;31mTypeError\u001b[0m: can't multiply sequence by non-int of type 'str'"
     ]
    }
   ],
   "source": [
    "panjang = \"50\"\n",
    "lebar = \"30\"\n",
    "luas = panjang * lebar\n",
    "\n",
    "print(luas)"
   ]
  }
 ],
 "metadata": {
  "celltoolbar": "Slideshow",
  "kernelspec": {
   "display_name": "Python 3 (ipykernel)",
   "language": "python",
   "name": "python3"
  },
  "language_info": {
   "codemirror_mode": {
    "name": "ipython",
    "version": 3
   },
   "file_extension": ".py",
   "mimetype": "text/x-python",
   "name": "python",
   "nbconvert_exporter": "python",
   "pygments_lexer": "ipython3",
   "version": "3.9.7"
  }
 },
 "nbformat": 4,
 "nbformat_minor": 5
}
