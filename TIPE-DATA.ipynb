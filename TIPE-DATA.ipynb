{
 "cells": [
  {
   "cell_type": "markdown",
   "id": "6ed36d44",
   "metadata": {
    "slideshow": {
     "slide_type": "slide"
    }
   },
   "source": [
    "# TIPE DATA\n",
    "<ul>\n",
    "    <li>\n",
    "      <b>STRING</b> merupakan tipe data yang berbentuk teks, karakter atau kalimat\n",
    "    </li>\n",
    "    <li>\n",
    "        <b>INTEGER</b> merupakan tipe data yang bebentuk angka atau bilangan bulat\n",
    "    </li>\n",
    "    <li>\n",
    "        <b>FLOAT</b> merupakan tipe data yang berbentuk anga dengan bilangan desimal.\n",
    "    </li>\n",
    "    <li>\n",
    "        <b>BOOLEAN</b> merupakan tipe data yang menentukan benar(True) atau salah(False)\n",
    "    </li>\n",
    "    <li>\n",
    "        <b>LIST</b> merupakan tipe data koleksi yang diapit dengan kurung siku yang bisa dimasukkan data yang banyak dengan pemisah koma. Dan bersifat ordered(terurut) dan juga bersifat changeable(bisa diubah).\n",
    "    </li>\n",
    "    <li>\n",
    "        <b>TUPLE</b> merupakan stuktur data yang digunakan untuk menyimpan sekumpulan data. Tupe bersifat immutable, artinya isi tuple tidak bisa kita ubah dan hapus. Namun, dapat kita isi dengan berbagai macam nilai dan objek.\n",
    "    </li>\n",
    "    <li>\n",
    "        <b>DICTIONARY</b> adalah tipe data pada python yang berfungsi untuk menyimpan kumpulan data/nilai dengan pendekatan “key-value”.\n",
    "    </li>\n",
    "</ul>"
   ]
  },
  {
   "cell_type": "markdown",
   "id": "72178743",
   "metadata": {
    "slideshow": {
     "slide_type": "subslide"
    }
   },
   "source": [
    "## STRING"
   ]
  },
  {
   "cell_type": "code",
   "execution_count": 1,
   "id": "25dd59ed",
   "metadata": {
    "scrolled": true,
    "slideshow": {
     "slide_type": "slide"
    }
   },
   "outputs": [
    {
     "name": "stdout",
     "output_type": "stream",
     "text": [
      "Rahman\n",
      "<class 'str'>\n"
     ]
    }
   ],
   "source": [
    "nama = \"Rahman\"\n",
    "\n",
    "print(nama)\n",
    "print(type(nama)) # type() untuk menampilkan jenis tipe data dari sebuah variabel atau objek"
   ]
  },
  {
   "cell_type": "code",
   "execution_count": 2,
   "id": "9ac68375",
   "metadata": {
    "slideshow": {
     "slide_type": "slide"
    }
   },
   "outputs": [
    {
     "name": "stdout",
     "output_type": "stream",
     "text": [
      "Welcome to python.org. Continue with subscribe\n",
      "<class 'str'>\n"
     ]
    }
   ],
   "source": [
    "kalimat = 'Welcome to python.org. Continue with subscribe'\n",
    "print(kalimat)\n",
    "print(type(kalimat))"
   ]
  },
  {
   "cell_type": "markdown",
   "id": "b2dc9262",
   "metadata": {
    "slideshow": {
     "slide_type": "slide"
    }
   },
   "source": [
    "## INTEGER"
   ]
  },
  {
   "cell_type": "code",
   "execution_count": 1,
   "id": "62d35649",
   "metadata": {
    "slideshow": {
     "slide_type": "slide"
    }
   },
   "outputs": [
    {
     "name": "stdout",
     "output_type": "stream",
     "text": [
      "19\n",
      "<class 'int'>\n"
     ]
    }
   ],
   "source": [
    "umur = 19\n",
    "\n",
    "print(umur)\n",
    "print(type(umur))"
   ]
  },
  {
   "cell_type": "code",
   "execution_count": 2,
   "id": "36f8963f",
   "metadata": {
    "slideshow": {
     "slide_type": "slide"
    }
   },
   "outputs": [
    {
     "name": "stdout",
     "output_type": "stream",
     "text": [
      "19\n",
      "<class 'str'>\n"
     ]
    }
   ],
   "source": [
    "umur = '19'\n",
    "\n",
    "print(umur)\n",
    "print(type(umur))"
   ]
  },
  {
   "cell_type": "code",
   "execution_count": 3,
   "id": "b99062e1",
   "metadata": {
    "scrolled": true,
    "slideshow": {
     "slide_type": "slide"
    }
   },
   "outputs": [
    {
     "name": "stdout",
     "output_type": "stream",
     "text": [
      "150\n"
     ]
    }
   ],
   "source": [
    "nomor = 150\n",
    "\n",
    "print(nomor)"
   ]
  },
  {
   "cell_type": "markdown",
   "id": "1e7caad5",
   "metadata": {
    "slideshow": {
     "slide_type": "slide"
    }
   },
   "source": [
    "## FLOAT"
   ]
  },
  {
   "cell_type": "code",
   "execution_count": 5,
   "id": "0f33a061",
   "metadata": {
    "slideshow": {
     "slide_type": "slide"
    }
   },
   "outputs": [
    {
     "name": "stdout",
     "output_type": "stream",
     "text": [
      "45.5\n",
      "<class 'float'>\n"
     ]
    }
   ],
   "source": [
    "berat = 45.5\n",
    "\n",
    "print(berat)\n",
    "print(type(berat))"
   ]
  },
  {
   "cell_type": "code",
   "execution_count": 6,
   "id": "f493e1c4",
   "metadata": {
    "slideshow": {
     "slide_type": "slide"
    }
   },
   "outputs": [
    {
     "name": "stdout",
     "output_type": "stream",
     "text": [
      "178.9\n",
      "<class 'float'>\n"
     ]
    }
   ],
   "source": [
    "tinggi = 178.90\n",
    "print(tinggi)\n",
    "print(type(tinggi))"
   ]
  },
  {
   "cell_type": "markdown",
   "id": "958070f9",
   "metadata": {
    "slideshow": {
     "slide_type": "slide"
    }
   },
   "source": [
    "## BOOLEAN"
   ]
  },
  {
   "cell_type": "code",
   "execution_count": 7,
   "id": "1c8740bb",
   "metadata": {},
   "outputs": [
    {
     "name": "stdout",
     "output_type": "stream",
     "text": [
      "True\n",
      "<class 'bool'>\n"
     ]
    }
   ],
   "source": [
    "runner = True\n",
    "\n",
    "print(runner)\n",
    "print(type(runner))"
   ]
  },
  {
   "cell_type": "code",
   "execution_count": 8,
   "id": "fc34b8e7",
   "metadata": {},
   "outputs": [
    {
     "name": "stdout",
     "output_type": "stream",
     "text": [
      "True\n",
      "False\n"
     ]
    }
   ],
   "source": [
    "benar = True # Menyatakan benar\n",
    "salah = False # Menyatakan salah\n",
    "\n",
    "print(benar)\n",
    "print(salah)"
   ]
  },
  {
   "cell_type": "markdown",
   "id": "c826ae23",
   "metadata": {},
   "source": [
    "## LIST"
   ]
  },
  {
   "cell_type": "code",
   "execution_count": 9,
   "id": "19aabf0f",
   "metadata": {},
   "outputs": [
    {
     "name": "stdout",
     "output_type": "stream",
     "text": [
      "['Python', 'PHP', 'Java', 'C', 'C++']\n",
      "<class 'list'>\n"
     ]
    }
   ],
   "source": [
    "data = ['Python', 'PHP', 'Java', 'C', 'C++']\n",
    "\n",
    "print(data)\n",
    "print(type(data))"
   ]
  },
  {
   "cell_type": "code",
   "execution_count": null,
   "id": "299fdb37",
   "metadata": {},
   "outputs": [],
   "source": []
  }
 ],
 "metadata": {
  "celltoolbar": "Slideshow",
  "kernelspec": {
   "display_name": "Python 3 (ipykernel)",
   "language": "python",
   "name": "python3"
  },
  "language_info": {
   "codemirror_mode": {
    "name": "ipython",
    "version": 3
   },
   "file_extension": ".py",
   "mimetype": "text/x-python",
   "name": "python",
   "nbconvert_exporter": "python",
   "pygments_lexer": "ipython3",
   "version": "3.9.7"
  }
 },
 "nbformat": 4,
 "nbformat_minor": 5
}
