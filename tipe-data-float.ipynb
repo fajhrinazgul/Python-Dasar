{
 "cells": [
  {
   "cell_type": "markdown",
   "id": "b66ce4bb",
   "metadata": {
    "slideshow": {
     "slide_type": "slide"
    }
   },
   "source": [
    "# Tipe Data Float\n",
    "\n",
    "Tipe data float adalah tipe data yang berbentuk bilangan pecahan atau bilangan desimal."
   ]
  },
  {
   "cell_type": "code",
   "execution_count": 1,
   "id": "4e62550a",
   "metadata": {
    "slideshow": {
     "slide_type": "subslide"
    }
   },
   "outputs": [
    {
     "name": "stdout",
     "output_type": "stream",
     "text": [
      "55.5\n",
      "<class 'float'>\n"
     ]
    }
   ],
   "source": [
    "berat = 55.5\n",
    "\n",
    "print(berat)\n",
    "print(type(berat))"
   ]
  },
  {
   "cell_type": "code",
   "execution_count": 2,
   "id": "4e1b2e40",
   "metadata": {
    "slideshow": {
     "slide_type": "fragment"
    }
   },
   "outputs": [
    {
     "name": "stdout",
     "output_type": "stream",
     "text": [
      "<class 'float'>\n"
     ]
    }
   ],
   "source": [
    "panjang = 23.3\n",
    "\n",
    "print(type(panjang))"
   ]
  },
  {
   "cell_type": "markdown",
   "id": "417b6742",
   "metadata": {
    "slideshow": {
     "slide_type": "slide"
    }
   },
   "source": [
    "### Mengubah tipe data\n",
    "\n",
    "Mengubah tipe data dalam bahasa python dengan menggunakan perintah dari tipe datanya sendiri."
   ]
  },
  {
   "cell_type": "code",
   "execution_count": 3,
   "id": "5f813020",
   "metadata": {
    "slideshow": {
     "slide_type": "subslide"
    }
   },
   "outputs": [
    {
     "name": "stdout",
     "output_type": "stream",
     "text": [
      "<class 'int'>\n",
      "<class 'float'>\n"
     ]
    }
   ],
   "source": [
    "tinggi = 178\n",
    "print(type(tinggi))\n",
    "\n",
    "tinggi_float = float(tinggi)\n",
    "print(type(tinggi_float))"
   ]
  },
  {
   "cell_type": "code",
   "execution_count": null,
   "id": "5d7a41c3",
   "metadata": {
    "slideshow": {
     "slide_type": "fragment"
    }
   },
   "outputs": [],
   "source": []
  }
 ],
 "metadata": {
  "celltoolbar": "Slideshow",
  "kernelspec": {
   "display_name": "Python 3 (ipykernel)",
   "language": "python",
   "name": "python3"
  },
  "language_info": {
   "codemirror_mode": {
    "name": "ipython",
    "version": 3
   },
   "file_extension": ".py",
   "mimetype": "text/x-python",
   "name": "python",
   "nbconvert_exporter": "python",
   "pygments_lexer": "ipython3",
   "version": "3.9.7"
  }
 },
 "nbformat": 4,
 "nbformat_minor": 5
}
